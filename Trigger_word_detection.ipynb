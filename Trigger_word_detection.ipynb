{
  "metadata": {
    "kernelspec": {
      "display_name": "Python 3",
      "name": "python3"
    },
    "language_info": {
      "name": "python",
      "version": "3.10.14",
      "mimetype": "text/x-python",
      "codemirror_mode": {
        "name": "ipython",
        "version": 3
      },
      "pygments_lexer": "ipython3",
      "nbconvert_exporter": "python",
      "file_extension": ".py"
    },
    "kaggle": {
      "accelerator": "gpu",
      "dataSources": [],
      "dockerImageVersionId": 30762,
      "isInternetEnabled": true,
      "language": "python",
      "sourceType": "notebook",
      "isGpuEnabled": true
    },
    "colab": {
      "name": "Trigger word detection",
      "provenance": [],
      "gpuType": "T4"
    },
    "accelerator": "GPU"
  },
  "nbformat_minor": 0,
  "nbformat": 4,
  "cells": [
    {
      "cell_type": "code",
      "source": [
        "import torch\n",
        "import torch.nn as nn\n",
        "import torch.nn.functional as F\n",
        "import torch.optim as optim\n",
        "import torchaudio\n",
        "import sys\n",
        "import os\n",
        "import numpy as np\n",
        "import matplotlib.pyplot as plt\n",
        "import IPython.display as ipd\n",
        "\n",
        "from tqdm import tqdm\n",
        "import torchaudio.transforms as T\n",
        "from torch.utils.data import TensorDataset, DataLoader\n",
        "import random\n",
        "from torch.nn.utils import clip_grad_norm_\n",
        "import librosa"
      ],
      "metadata": {
        "execution": {
          "iopub.status.busy": "2024-08-28T18:01:31.705213Z",
          "iopub.execute_input": "2024-08-28T18:01:31.705589Z",
          "iopub.status.idle": "2024-08-28T18:01:31.712223Z",
          "shell.execute_reply.started": "2024-08-28T18:01:31.705553Z",
          "shell.execute_reply": "2024-08-28T18:01:31.711308Z"
        },
        "trusted": true,
        "id": "QBMHvSwfQvq5"
      },
      "execution_count": 4,
      "outputs": []
    },
    {
      "cell_type": "code",
      "source": [
        "device = torch.device('cuda' if torch.cuda.is_available() else 'cpu')\n",
        "print(device)"
      ],
      "metadata": {
        "execution": {
          "iopub.status.busy": "2024-08-28T12:25:28.811483Z",
          "iopub.execute_input": "2024-08-28T12:25:28.81222Z",
          "iopub.status.idle": "2024-08-28T12:25:28.846343Z",
          "shell.execute_reply.started": "2024-08-28T12:25:28.812175Z",
          "shell.execute_reply": "2024-08-28T12:25:28.845273Z"
        },
        "trusted": true,
        "colab": {
          "base_uri": "https://localhost:8080/"
        },
        "id": "WJBlnl-xQvq7",
        "outputId": "0fed61e8-091d-4178-cb96-ff9c83586f0b"
      },
      "execution_count": 2,
      "outputs": [
        {
          "output_type": "stream",
          "name": "stdout",
          "text": [
            "cuda\n"
          ]
        }
      ]
    },
    {
      "cell_type": "code",
      "source": [
        "dataset_speech = torchaudio.datasets.SPEECHCOMMANDS('./', download=True)"
      ],
      "metadata": {
        "execution": {
          "iopub.status.busy": "2024-08-28T16:29:15.222343Z",
          "iopub.execute_input": "2024-08-28T16:29:15.222738Z",
          "iopub.status.idle": "2024-08-28T16:29:15.817242Z",
          "shell.execute_reply.started": "2024-08-28T16:29:15.222702Z",
          "shell.execute_reply": "2024-08-28T16:29:15.816445Z"
        },
        "trusted": true,
        "colab": {
          "base_uri": "https://localhost:8080/"
        },
        "id": "-2IJKomyQvq8",
        "outputId": "5aa7a9d8-3387-4a57-90ef-bcd1df96342c"
      },
      "execution_count": 3,
      "outputs": [
        {
          "output_type": "stream",
          "name": "stderr",
          "text": [
            "100%|██████████| 2.26G/2.26G [01:45<00:00, 23.1MB/s]\n"
          ]
        }
      ]
    },
    {
      "cell_type": "code",
      "source": [
        "def data_extractor(dataset, num_samples=5000, validation_split=0.2):\n",
        "\n",
        "    trigger_samples = []\n",
        "    non_trigger_samples = []\n",
        "\n",
        "    # Extract samples\n",
        "    for i in range(num_samples):\n",
        "        waveform, sample_rate, label, *rest = dataset[i]\n",
        "        if label == 'backward':\n",
        "            trigger_samples.append((waveform, sample_rate, label))\n",
        "        else:\n",
        "            non_trigger_samples.append((waveform, sample_rate, label))\n",
        "\n",
        "    # Split data into training and validation sets\n",
        "    num_val_trigger = int(len(trigger_samples) * validation_split)\n",
        "    num_val_non_trigger = int(len(non_trigger_samples) * validation_split)\n",
        "\n",
        "    train_trigger_samples = trigger_samples[num_val_trigger:]\n",
        "    val_trigger_samples = trigger_samples[:num_val_trigger]\n",
        "\n",
        "    train_non_trigger_samples = non_trigger_samples[num_val_non_trigger:]\n",
        "    val_non_trigger_samples = non_trigger_samples[:num_val_non_trigger]\n",
        "\n",
        "    return (train_trigger_samples, train_non_trigger_samples), (val_trigger_samples, val_non_trigger_samples)"
      ],
      "metadata": {
        "execution": {
          "iopub.status.busy": "2024-08-28T18:17:23.697879Z",
          "iopub.execute_input": "2024-08-28T18:17:23.698234Z",
          "iopub.status.idle": "2024-08-28T18:17:23.70602Z",
          "shell.execute_reply.started": "2024-08-28T18:17:23.698201Z",
          "shell.execute_reply": "2024-08-28T18:17:23.705057Z"
        },
        "trusted": true,
        "id": "TlDkya8eQvq8"
      },
      "execution_count": 5,
      "outputs": []
    },
    {
      "cell_type": "code",
      "source": [
        "(train_trigger_samples, train_non_trigger_samples), (val_trigger_samples, val_non_trigger_samples) = data_extractor(dataset_speech)"
      ],
      "metadata": {
        "execution": {
          "iopub.status.busy": "2024-08-28T18:17:25.247226Z",
          "iopub.execute_input": "2024-08-28T18:17:25.247855Z",
          "iopub.status.idle": "2024-08-28T18:17:40.302087Z",
          "shell.execute_reply.started": "2024-08-28T18:17:25.247815Z",
          "shell.execute_reply": "2024-08-28T18:17:40.301317Z"
        },
        "trusted": true,
        "id": "lCS_YfuyQvq8"
      },
      "execution_count": 6,
      "outputs": []
    },
    {
      "cell_type": "code",
      "source": [
        "print(f\"Number of train trigger samples: {len(train_trigger_samples)}\")\n",
        "print(f\"Number of train non-trigger samples: {len(train_non_trigger_samples)}\")\n",
        "print(f'Number of val trigger samples: {len(val_trigger_samples)}')\n",
        "print(f'Number of val non-trigger samples: {len(val_non_trigger_samples)}')"
      ],
      "metadata": {
        "execution": {
          "iopub.status.busy": "2024-08-28T18:17:40.303521Z",
          "iopub.execute_input": "2024-08-28T18:17:40.303835Z",
          "iopub.status.idle": "2024-08-28T18:17:40.309052Z",
          "shell.execute_reply.started": "2024-08-28T18:17:40.303801Z",
          "shell.execute_reply": "2024-08-28T18:17:40.308168Z"
        },
        "trusted": true,
        "colab": {
          "base_uri": "https://localhost:8080/"
        },
        "id": "3cn76viJQvq8",
        "outputId": "f8e32ac5-e1f5-4f0b-954d-7aee7b87fd66"
      },
      "execution_count": 7,
      "outputs": [
        {
          "output_type": "stream",
          "name": "stdout",
          "text": [
            "Number of train trigger samples: 1332\n",
            "Number of train non-trigger samples: 2669\n",
            "Number of val trigger samples: 332\n",
            "Number of val non-trigger samples: 667\n"
          ]
        }
      ]
    },
    {
      "cell_type": "code",
      "source": [
        "lab = train_non_trigger_samples[410]\n",
        "lab"
      ],
      "metadata": {
        "execution": {
          "iopub.status.busy": "2024-08-28T18:17:44.748615Z",
          "iopub.execute_input": "2024-08-28T18:17:44.748979Z",
          "iopub.status.idle": "2024-08-28T18:17:44.756181Z",
          "shell.execute_reply.started": "2024-08-28T18:17:44.748945Z",
          "shell.execute_reply": "2024-08-28T18:17:44.755281Z"
        },
        "trusted": true,
        "colab": {
          "base_uri": "https://localhost:8080/"
        },
        "id": "jcLYhDj0Qvq9",
        "outputId": "b6882fe5-b554-4534-996b-5ac97f03c6f0"
      },
      "execution_count": 8,
      "outputs": [
        {
          "output_type": "execute_result",
          "data": {
            "text/plain": [
              "(tensor([[0.0050, 0.0071, 0.0060,  ..., 0.0031, 0.0018, 0.0033]]),\n",
              " 16000,\n",
              " 'bed')"
            ]
          },
          "metadata": {},
          "execution_count": 8
        }
      ]
    },
    {
      "cell_type": "code",
      "source": [
        "waveform, sample, label = train_trigger_samples[20]\n",
        "waveform_np = waveform.numpy().squeeze() # turn it into 1D instead of 2D to plot\n",
        "\n",
        "plt.figure(figsize=(10, 4))\n",
        "plt.plot(np.linspace(0, len(waveform_np)/16000, len(waveform_np)), waveform_np)\n",
        "plt.title(f\"Waveform of the word: {label}\")\n",
        "plt.xlabel(\"Time (s)\")\n",
        "plt.ylabel(\"Amplitude\")\n",
        "plt.show()"
      ],
      "metadata": {
        "execution": {
          "iopub.status.busy": "2024-08-28T18:19:16.427501Z",
          "iopub.execute_input": "2024-08-28T18:19:16.427899Z",
          "iopub.status.idle": "2024-08-28T18:19:16.667791Z",
          "shell.execute_reply.started": "2024-08-28T18:19:16.427864Z",
          "shell.execute_reply": "2024-08-28T18:19:16.666867Z"
        },
        "trusted": true,
        "colab": {
          "base_uri": "https://localhost:8080/",
          "height": 410
        },
        "id": "kc8ykzNzQvq9",
        "outputId": "f13860a6-5648-4743-e071-5d3170c863ef"
      },
      "execution_count": 74,
      "outputs": [
        {
          "output_type": "display_data",
          "data": {
            "text/plain": [
              "<Figure size 1000x400 with 1 Axes>"
            ],
            "image/png": "[encoded data removed]"
          },
          "metadata": {}
        }
      ]
    },
    {
      "cell_type": "code",
      "source": [
        "ipd.Audio(waveform, rate=16000)"
      ],
      "metadata": {
        "execution": {
          "iopub.status.busy": "2024-08-28T18:19:28.026416Z",
          "iopub.execute_input": "2024-08-28T18:19:28.027274Z",
          "iopub.status.idle": "2024-08-28T18:19:28.035063Z",
          "shell.execute_reply.started": "2024-08-28T18:19:28.027228Z",
          "shell.execute_reply": "2024-08-28T18:19:28.034196Z"
        },
        "trusted": true,
        "colab": {
          "base_uri": "https://localhost:8080/",
          "height": 76
        },
        "id": "0CCV0rNfQvq9",
        "outputId": "8a31248a-486f-489e-ce39-a291ae4632bf"
      },
      "execution_count": 75,
      "outputs": [
        {
          "output_type": "execute_result",
          "data": {
            "text/plain": [
              "<IPython.lib.display.Audio object>"
            ],
            "text/html": [
              "\n",
              "                <audio  controls=\"controls\" >\n",
              "                    <source src=\"data:audio/wav;base64,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\" type=\"audio/wav\" />\n",
              "                    Your browser does not support the audio element.\n",
              "                </audio>\n",
              "              "
            ]
          },
          "metadata": {},
          "execution_count": 75
        }
      ]
    },
    {
      "cell_type": "code",
      "source": [
        "def generate_and_label_spectrogram(waveform, label, target_length=101, n_fft=400, win_len=400, hop_len=160, n_mels=128, sample_rate=16000):\n",
        "    # Create Mel Spectrogram\n",
        "    mel_spectrogram = T.MelSpectrogram(\n",
        "        sample_rate=sample_rate,\n",
        "        n_fft=n_fft,\n",
        "        win_length=win_len,\n",
        "        hop_length=hop_len,\n",
        "        n_mels=n_mels\n",
        "    )(waveform)\n",
        "\n",
        "    # Convert to dB\n",
        "    mel_spec_db = T.AmplitudeToDB()(mel_spectrogram)\n",
        "\n",
        "    # Check the current number of frames in the spectrogram\n",
        "    num_frames = mel_spec_db.shape[-1]\n",
        "\n",
        "    # Pad the spectrogram if it is less than the target length\n",
        "    if num_frames < target_length:\n",
        "        # Calculate the amount of padding needed\n",
        "        padding_size = target_length - num_frames\n",
        "        # Create a padding tensor of zeros with the same number of channels as the spectrogram\n",
        "        padding = torch.zeros((mel_spec_db.shape[0], mel_spec_db.shape[1], padding_size))\n",
        "        # Concatenate the padding to the spectrogram along the time dimension (columns)\n",
        "        mel_spec_db = torch.cat((mel_spec_db, padding), dim=2)\n",
        "\n",
        "    # Generate labels based on the input label\n",
        "    if label == 'backward':\n",
        "        labels = np.ones((target_length,))\n",
        "    else:\n",
        "        labels = np.zeros((target_length,))\n",
        "\n",
        "    return mel_spec_db, labels"
      ],
      "metadata": {
        "execution": {
          "iopub.status.busy": "2024-08-28T18:19:37.955546Z",
          "iopub.execute_input": "2024-08-28T18:19:37.955943Z",
          "iopub.status.idle": "2024-08-28T18:19:37.964672Z",
          "shell.execute_reply.started": "2024-08-28T18:19:37.955907Z",
          "shell.execute_reply": "2024-08-28T18:19:37.963693Z"
        },
        "trusted": true,
        "id": "GIk-5CIUQvq9"
      },
      "execution_count": 11,
      "outputs": []
    },
    {
      "cell_type": "code",
      "source": [
        "train_spectrogram_data = []\n",
        "train_labels_data = []\n",
        "val_spectrogram_data = []\n",
        "val_labels_data = []\n",
        "\n",
        "for waveform, sample_rate, label in train_trigger_samples + train_non_trigger_samples:\n",
        "    spec, lbls = generate_and_label_spectrogram(waveform, label)\n",
        "    train_spectrogram_data.append(spec)\n",
        "    train_labels_data.append(lbls)\n",
        "\n",
        "for waveform, sample_rate, label in val_trigger_samples + val_non_trigger_samples:\n",
        "    spec, lbls = generate_and_label_spectrogram(waveform, label)\n",
        "    val_spectrogram_data.append(spec)\n",
        "    val_labels_data.append(lbls)"
      ],
      "metadata": {
        "execution": {
          "iopub.status.busy": "2024-08-28T18:19:42.417367Z",
          "iopub.execute_input": "2024-08-28T18:19:42.41824Z",
          "iopub.status.idle": "2024-08-28T18:19:48.93081Z",
          "shell.execute_reply.started": "2024-08-28T18:19:42.418201Z",
          "shell.execute_reply": "2024-08-28T18:19:48.929807Z"
        },
        "trusted": true,
        "colab": {
          "base_uri": "https://localhost:8080/"
        },
        "id": "ENtygSMSQvq9",
        "outputId": "d4306ba4-c182-42cb-db12-ae8b55d8f71d"
      },
      "execution_count": 12,
      "outputs": [
        {
          "output_type": "stream",
          "name": "stderr",
          "text": [
            "/usr/local/lib/python3.10/dist-packages/torchaudio/functional/functional.py:584: UserWarning: At least one mel filterbank has all zero values. The value for `n_mels` (128) may be set too high. Or, the value for `n_freqs` (201) may be set too low.\n",
            "  warnings.warn(\n"
          ]
        }
      ]
    },
    {
      "cell_type": "code",
      "source": [
        "print(np.array(train_spectrogram_data).shape)\n",
        "print(np.array(train_labels_data).shape)\n",
        "print(np.array(val_spectrogram_data).shape)\n",
        "print(np.array(val_labels_data).shape)"
      ],
      "metadata": {
        "execution": {
          "iopub.status.busy": "2024-08-28T18:19:48.932356Z",
          "iopub.execute_input": "2024-08-28T18:19:48.932695Z",
          "iopub.status.idle": "2024-08-28T18:19:49.093296Z",
          "shell.execute_reply.started": "2024-08-28T18:19:48.932636Z",
          "shell.execute_reply": "2024-08-28T18:19:49.092308Z"
        },
        "trusted": true,
        "colab": {
          "base_uri": "https://localhost:8080/"
        },
        "id": "UPjwVs4PQvq-",
        "outputId": "94219e71-3bbe-4ad1-c19d-9d52fc5e4679"
      },
      "execution_count": 13,
      "outputs": [
        {
          "output_type": "stream",
          "name": "stdout",
          "text": [
            "(4001, 1, 128, 101)\n",
            "(4001, 101)\n",
            "(999, 1, 128, 101)\n",
            "(999, 101)\n"
          ]
        }
      ]
    },
    {
      "cell_type": "code",
      "source": [
        "class TriggerWordGRUModel(nn.Module):\n",
        "    def __init__(self):\n",
        "        super(TriggerWordGRUModel, self).__init__()\n",
        "        # Convolutional layer processes the features along the time dimension\n",
        "        self.conv1 = nn.Conv1d(in_channels=128, out_channels=64, kernel_size=5, padding=2)\n",
        "        self.dropout = nn.Dropout(0.5)\n",
        "        self.batch_norm = nn.BatchNorm1d(64)\n",
        "        self.relu = nn.ReLU()\n",
        "\n",
        "        # First GRU layer\n",
        "        self.gru1 = nn.GRU(input_size=64, hidden_size=128, num_layers=1, batch_first=True)\n",
        "\n",
        "        # Second GRU layer\n",
        "        self.gru2 = nn.GRU(input_size=128, hidden_size=128, num_layers=1, batch_first=True)\n",
        "\n",
        "        # Linear layers\n",
        "        self.linear = nn.Linear(128, 1)  # Reducing dimension before final classification\n",
        "        self.sigmoid = nn.Sigmoid()\n",
        "\n",
        "    def forward(self, x):\n",
        "        # Correcting input shape to (batch, channels, time)\n",
        "        x = x.transpose(1, 2)  # Now shape (batch, features, time)\n",
        "\n",
        "        x = self.conv1(x)\n",
        "        x = self.batch_norm(x)\n",
        "        x = self.relu(x)\n",
        "        x = self.dropout(x)\n",
        "\n",
        "        # Transpose for GRU (batch, time, features)\n",
        "        x = x.transpose(1, 2)  # Now shape (batch, time, features)\n",
        "\n",
        "        x, _ = self.gru1(x)\n",
        "        x = self.dropout(x)\n",
        "\n",
        "        x, _ = self.gru2(x)\n",
        "        x = self.dropout(x)\n",
        "\n",
        "        x = self.linear(x)\n",
        "        x = self.sigmoid(x)\n",
        "\n",
        "        return x.squeeze(-1)"
      ],
      "metadata": {
        "execution": {
          "iopub.status.busy": "2024-08-28T18:19:57.029696Z",
          "iopub.execute_input": "2024-08-28T18:19:57.030065Z",
          "iopub.status.idle": "2024-08-28T18:19:57.040118Z",
          "shell.execute_reply.started": "2024-08-28T18:19:57.03003Z",
          "shell.execute_reply": "2024-08-28T18:19:57.039138Z"
        },
        "trusted": true,
        "id": "uNrNOxoVQvq-"
      },
      "execution_count": 14,
      "outputs": []
    },
    {
      "cell_type": "code",
      "source": [
        "model = TriggerWordGRUModel()"
      ],
      "metadata": {
        "execution": {
          "iopub.status.busy": "2024-08-28T18:20:00.203804Z",
          "iopub.execute_input": "2024-08-28T18:20:00.204182Z",
          "iopub.status.idle": "2024-08-28T18:20:00.212706Z",
          "shell.execute_reply.started": "2024-08-28T18:20:00.204146Z",
          "shell.execute_reply": "2024-08-28T18:20:00.211795Z"
        },
        "trusted": true,
        "id": "xBVN36PEQvq-"
      },
      "execution_count": 15,
      "outputs": []
    },
    {
      "cell_type": "code",
      "source": [
        "spectrogram_tensor = torch.stack([s.squeeze(0).transpose(0,1) for s in train_spectrogram_data]) # now [batch, time, frequenzy]\n",
        "labels_tensor = torch.Tensor(train_labels_data)\n",
        "\n",
        "#create dataset and loader\n",
        "dataset = TensorDataset(spectrogram_tensor, labels_tensor)\n",
        "dataloader = DataLoader(dataset, batch_size=32, shuffle=True)\n",
        "\n",
        "\n",
        "# Assuming val_spectrogram_data and val_labels_data are already lists of tensors\n",
        "val_spectrogram_tensor = torch.stack([s.squeeze(0).transpose(0,1) for s in val_spectrogram_data])\n",
        "val_labels_tensor = torch.Tensor(val_labels_data)\n",
        "\n",
        "# Create the validation dataset and dataloader\n",
        "val_dataset = TensorDataset(val_spectrogram_tensor, val_labels_tensor)\n",
        "val_dataloader = DataLoader(val_dataset, batch_size=32, shuffle=True)"
      ],
      "metadata": {
        "execution": {
          "iopub.status.busy": "2024-08-28T18:20:03.281692Z",
          "iopub.execute_input": "2024-08-28T18:20:03.282073Z",
          "iopub.status.idle": "2024-08-28T18:20:03.611464Z",
          "shell.execute_reply.started": "2024-08-28T18:20:03.282036Z",
          "shell.execute_reply": "2024-08-28T18:20:03.610711Z"
        },
        "trusted": true,
        "colab": {
          "base_uri": "https://localhost:8080/"
        },
        "id": "7PDcLlgzQvq-",
        "outputId": "daec0007-ca75-4228-ad85-c06147ea30c3"
      },
      "execution_count": 16,
      "outputs": [
        {
          "output_type": "stream",
          "name": "stderr",
          "text": [
            "<ipython-input-16-13c889985b7b>:2: UserWarning: Creating a tensor from a list of numpy.ndarrays is extremely slow. Please consider converting the list to a single numpy.ndarray with numpy.array() before converting to a tensor. (Triggered internally at ../torch/csrc/utils/tensor_new.cpp:274.)\n",
            "  labels_tensor = torch.Tensor(train_labels_data)\n"
          ]
        }
      ]
    },
    {
      "cell_type": "code",
      "source": [
        "def train_model(model, train_dataloader, val_dataloader, loss_fn, optimizer, epochs=15):\n",
        "    for epoch in range(epochs):\n",
        "        model.train()  # Set the model to training mode\n",
        "        train_loss = 0\n",
        "        for spectrograms, labels in train_dataloader:\n",
        "            # Forward pass\n",
        "            outputs = model(spectrograms)\n",
        "            loss = loss_fn(outputs, labels)\n",
        "            train_loss += loss.item()\n",
        "\n",
        "            # Backward pass and optimize\n",
        "            optimizer.zero_grad()\n",
        "            loss.backward()\n",
        "            clip_grad_norm_(model.parameters(), max_norm=1.0)  # Clip gradients to avoid explosion\n",
        "            optimizer.step()\n",
        "\n",
        "        # Validation phase\n",
        "        model.eval()  # Set the model to evaluation mode\n",
        "        val_loss = 0\n",
        "        with torch.no_grad():  # Turn off gradients for validation to save memory and computations\n",
        "            for spectrograms, labels in val_dataloader:\n",
        "                outputs = model(spectrograms)\n",
        "                loss = loss_fn(outputs, labels)\n",
        "                val_loss += loss.item()\n",
        "\n",
        "        # Print average losses for the current epoch\n",
        "        train_loss /= len(train_dataloader)\n",
        "        val_loss /= len(val_dataloader)\n",
        "        print(f'Epoch [{epoch+1}/{epochs}], Train Loss: {train_loss:.4f}, Val Loss: {val_loss:.4f}')\n",
        "\n",
        "    print('Training Finished')\n",
        "\n",
        "loss_fn = nn.BCEWithLogitsLoss()\n",
        "optimizer = torch.optim.Adam(model.parameters(), lr=1e-6)\n",
        "train_model(model, dataloader, val_dataloader, loss_fn, optimizer)"
      ],
      "metadata": {
        "execution": {
          "iopub.status.busy": "2024-08-28T18:22:31.05924Z",
          "iopub.execute_input": "2024-08-28T18:22:31.060201Z",
          "iopub.status.idle": "2024-08-28T18:26:45.280417Z",
          "shell.execute_reply.started": "2024-08-28T18:22:31.060158Z",
          "shell.execute_reply": "2024-08-28T18:26:45.279463Z"
        },
        "trusted": true,
        "colab": {
          "base_uri": "https://localhost:8080/"
        },
        "id": "oPbOPkLnQvq-",
        "outputId": "5fbf2582-83a2-4c0f-f82a-f07e4dd33b75"
      },
      "execution_count": 76,
      "outputs": [
        {
          "output_type": "stream",
          "name": "stdout",
          "text": [
            "Epoch [1/15], Train Loss: 0.6702, Val Loss: 0.6745\n",
            "Epoch [2/15], Train Loss: 0.6701, Val Loss: 0.6748\n",
            "Epoch [3/15], Train Loss: 0.6704, Val Loss: 0.6734\n",
            "Epoch [4/15], Train Loss: 0.6702, Val Loss: 0.6741\n",
            "Epoch [5/15], Train Loss: 0.6703, Val Loss: 0.6744\n",
            "Epoch [6/15], Train Loss: 0.6703, Val Loss: 0.6737\n",
            "Epoch [7/15], Train Loss: 0.6704, Val Loss: 0.6732\n",
            "Epoch [8/15], Train Loss: 0.6699, Val Loss: 0.6727\n",
            "Epoch [9/15], Train Loss: 0.6687, Val Loss: 0.6750\n",
            "Epoch [10/15], Train Loss: 0.6704, Val Loss: 0.6736\n",
            "Epoch [11/15], Train Loss: 0.6699, Val Loss: 0.6726\n",
            "Epoch [12/15], Train Loss: 0.6694, Val Loss: 0.6721\n",
            "Epoch [13/15], Train Loss: 0.6686, Val Loss: 0.6725\n",
            "Epoch [14/15], Train Loss: 0.6688, Val Loss: 0.6720\n",
            "Epoch [15/15], Train Loss: 0.6677, Val Loss: 0.6732\n",
            "Training Finished\n"
          ]
        }
      ]
    },
    {
      "cell_type": "code",
      "source": [
        "model.eval()\n",
        "\n",
        "# Prepare the single spectrogram data example\n",
        "# `spectrogram_data[0]` is assumed to be of shape [1, 128, 101] (1 for batch size)\n",
        "single_spectrogram = val_spectrogram_tensor[20].unsqueeze(0)\n",
        "\n",
        "# Check the shape\n",
        "print(\"Shape of the input spectrogram:\", single_spectrogram.shape)\n",
        "\n",
        "# Ensure it's on the correct device\n",
        "device = next(model.parameters()).device\n",
        "single_spectrogram = single_spectrogram.to(device)\n",
        "\n",
        "# Make prediction\n",
        "with torch.no_grad():\n",
        "    prediction = model(single_spectrogram)\n",
        "\n",
        "print(\"Prediction output:\", prediction)"
      ],
      "metadata": {
        "execution": {
          "iopub.status.busy": "2024-08-28T18:28:51.934516Z",
          "iopub.execute_input": "2024-08-28T18:28:51.935377Z",
          "iopub.status.idle": "2024-08-28T18:28:51.955436Z",
          "shell.execute_reply.started": "2024-08-28T18:28:51.935338Z",
          "shell.execute_reply": "2024-08-28T18:28:51.9545Z"
        },
        "trusted": true,
        "colab": {
          "base_uri": "https://localhost:8080/"
        },
        "id": "Q-5zM4QGQvq-",
        "outputId": "17e87ca2-3b83-438b-d124-eafe4e98093c"
      },
      "execution_count": 23,
      "outputs": [
        {
          "output_type": "stream",
          "name": "stdout",
          "text": [
            "Shape of the input spectrogram: torch.Size([1, 101, 128])\n",
            "Prediction output: tensor([[0.2061, 0.0473, 0.0147, 0.0072, 0.0049, 0.0041, 0.0037, 0.0037, 0.0036,\n",
            "         0.0035, 0.0035, 0.0033, 0.0031, 0.0030, 0.0030, 0.0031, 0.0031, 0.0032,\n",
            "         0.0032, 0.0032, 0.0032, 0.0032, 0.0031, 0.0029, 0.0027, 0.0027, 0.0027,\n",
            "         0.0027, 0.0028, 0.0028, 0.0029, 0.0029, 0.0030, 0.0031, 0.0031, 0.0030,\n",
            "         0.0030, 0.0030, 0.0030, 0.0030, 0.0031, 0.0032, 0.0033, 0.0034, 0.0034,\n",
            "         0.0034, 0.0030, 0.0028, 0.0025, 0.0023, 0.0022, 0.0022, 0.0022, 0.0024,\n",
            "         0.0026, 0.0029, 0.0034, 0.0041, 0.0050, 0.0061, 0.0070, 0.0081, 0.0096,\n",
            "         0.0139, 0.0269, 0.0824, 0.2783, 0.6208, 0.8330, 0.9160, 0.9487, 0.9635,\n",
            "         0.9707, 0.9741, 0.9752, 0.9745, 0.9717, 0.9668, 0.9590, 0.9484, 0.9313,\n",
            "         0.9080, 0.8785, 0.8448, 0.7903, 0.7189, 0.6040, 0.4264, 0.2194, 0.0764,\n",
            "         0.0233, 0.0094, 0.0052, 0.0037, 0.0032, 0.0030, 0.0030, 0.0029, 0.0028,\n",
            "         0.0027, 0.0027]])\n"
          ]
        }
      ]
    },
    {
      "cell_type": "code",
      "source": [
        "print(np.array(single_spectrogram).shape)"
      ],
      "metadata": {
        "execution": {
          "iopub.status.busy": "2024-08-28T18:28:53.369628Z",
          "iopub.execute_input": "2024-08-28T18:28:53.370022Z",
          "iopub.status.idle": "2024-08-28T18:28:53.375331Z",
          "shell.execute_reply.started": "2024-08-28T18:28:53.369986Z",
          "shell.execute_reply": "2024-08-28T18:28:53.374382Z"
        },
        "trusted": true,
        "colab": {
          "base_uri": "https://localhost:8080/"
        },
        "id": "9gSJlDWsQvq-",
        "outputId": "53a9ee11-8c11-4250-c988-fc1053b19589"
      },
      "execution_count": 19,
      "outputs": [
        {
          "output_type": "stream",
          "name": "stdout",
          "text": [
            "(1, 101, 128)\n"
          ]
        }
      ]
    },
    {
      "cell_type": "code",
      "source": [
        "threshold = 0.5\n",
        "binary_predictions = (prediction > threshold).int()\n",
        "print(binary_predictions)"
      ],
      "metadata": {
        "execution": {
          "iopub.status.busy": "2024-08-28T18:28:53.773417Z",
          "iopub.execute_input": "2024-08-28T18:28:53.773773Z",
          "iopub.status.idle": "2024-08-28T18:28:53.780013Z",
          "shell.execute_reply.started": "2024-08-28T18:28:53.773736Z",
          "shell.execute_reply": "2024-08-28T18:28:53.779118Z"
        },
        "trusted": true,
        "colab": {
          "base_uri": "https://localhost:8080/"
        },
        "id": "0dTb0ToLQvq-",
        "outputId": "28012715-b562-44b7-c162-c6b80ee96b85"
      },
      "execution_count": 25,
      "outputs": [
        {
          "output_type": "stream",
          "name": "stdout",
          "text": [
            "tensor([[0, 0, 0, 0, 0, 0, 0, 0, 0, 0, 0, 0, 0, 0, 0, 0, 0, 0, 0, 0, 0, 0, 0, 0,\n",
            "         0, 0, 0, 0, 0, 0, 0, 0, 0, 0, 0, 0, 0, 0, 0, 0, 0, 0, 0, 0, 0, 0, 0, 0,\n",
            "         0, 0, 0, 0, 0, 0, 0, 0, 0, 0, 0, 0, 0, 0, 0, 0, 0, 0, 0, 1, 1, 1, 1, 1,\n",
            "         1, 1, 1, 1, 1, 1, 1, 1, 1, 1, 1, 1, 1, 1, 1, 0, 0, 0, 0, 0, 0, 0, 0, 0,\n",
            "         0, 0, 0, 0, 0]], dtype=torch.int32)\n"
          ]
        }
      ]
    },
    {
      "cell_type": "code",
      "source": [
        "single_label = val_labels_tensor[20]"
      ],
      "metadata": {
        "execution": {
          "iopub.status.busy": "2024-08-28T18:28:55.574234Z",
          "iopub.execute_input": "2024-08-28T18:28:55.574868Z",
          "iopub.status.idle": "2024-08-28T18:28:55.579046Z",
          "shell.execute_reply.started": "2024-08-28T18:28:55.574824Z",
          "shell.execute_reply": "2024-08-28T18:28:55.578125Z"
        },
        "trusted": true,
        "id": "c7WRJLhJQvq-"
      },
      "execution_count": 26,
      "outputs": []
    },
    {
      "cell_type": "code",
      "source": [
        "single_label"
      ],
      "metadata": {
        "execution": {
          "iopub.status.busy": "2024-08-28T18:28:56.295031Z",
          "iopub.execute_input": "2024-08-28T18:28:56.296007Z",
          "iopub.status.idle": "2024-08-28T18:28:56.302148Z",
          "shell.execute_reply.started": "2024-08-28T18:28:56.295965Z",
          "shell.execute_reply": "2024-08-28T18:28:56.301281Z"
        },
        "trusted": true,
        "colab": {
          "base_uri": "https://localhost:8080/"
        },
        "id": "GVtcQzDAQvq-",
        "outputId": "5a6c14fd-a19e-4b65-a65f-94844ac676be"
      },
      "execution_count": 27,
      "outputs": [
        {
          "output_type": "execute_result",
          "data": {
            "text/plain": [
              "tensor([1., 1., 1., 1., 1., 1., 1., 1., 1., 1., 1., 1., 1., 1., 1., 1., 1., 1.,\n",
              "        1., 1., 1., 1., 1., 1., 1., 1., 1., 1., 1., 1., 1., 1., 1., 1., 1., 1.,\n",
              "        1., 1., 1., 1., 1., 1., 1., 1., 1., 1., 1., 1., 1., 1., 1., 1., 1., 1.,\n",
              "        1., 1., 1., 1., 1., 1., 1., 1., 1., 1., 1., 1., 1., 1., 1., 1., 1., 1.,\n",
              "        1., 1., 1., 1., 1., 1., 1., 1., 1., 1., 1., 1., 1., 1., 1., 1., 1., 1.,\n",
              "        1., 1., 1., 1., 1., 1., 1., 1., 1., 1., 1.])"
            ]
          },
          "metadata": {},
          "execution_count": 27
        }
      ]
    },
    {
      "cell_type": "code",
      "source": [
        "def load_audio(file_path, target_sample_rate=16000):\n",
        "  audio, sample_rate = librosa.load(file_path, sr=target_sample_rate)\n",
        "  return audio, sample_rate\n",
        "\n",
        "audio, sample_rate = load_audio('/content/ttsmaker-file-2024-8-28-21-17-14.mp3')"
      ],
      "metadata": {
        "id": "azkjn9woQvq-"
      },
      "execution_count": 77,
      "outputs": []
    },
    {
      "cell_type": "code",
      "source": [
        "audio2, sample_rate2 = load_audio('/content/Recording (2).m4a')"
      ],
      "metadata": {
        "colab": {
          "base_uri": "https://localhost:8080/"
        },
        "id": "4oIitS43XvzK",
        "outputId": "21ae6287-2fa5-4d43-ca76-3976b8bf7ef7"
      },
      "execution_count": 57,
      "outputs": [
        {
          "output_type": "stream",
          "name": "stderr",
          "text": [
            "<ipython-input-28-03469256947f>:2: UserWarning: PySoundFile failed. Trying audioread instead.\n",
            "  audio, sample_rate = librosa.load(file_path, sr=target_sample_rate)\n",
            "/usr/local/lib/python3.10/dist-packages/librosa/core/audio.py:184: FutureWarning: librosa.core.audio.__audioread_load\n",
            "\tDeprecated as of librosa version 0.10.0.\n",
            "\tIt will be removed in librosa version 1.0.\n",
            "  y, sr_native = __audioread_load(path, offset, duration, dtype)\n"
          ]
        }
      ]
    },
    {
      "cell_type": "code",
      "source": [
        "def create_spectrogram(waveform, n_fft=400, win_len=400, hop_len=160, n_mels=128, sample_rate=16000):\n",
        "    waveform = torch.tensor(waveform).float()\n",
        "    if waveform.ndim == 1:  # Add channel dimension if mono\n",
        "        waveform = waveform.unsqueeze(0)\n",
        "\n",
        "    mel_spectrogram = T.MelSpectrogram(\n",
        "        sample_rate=sample_rate,\n",
        "        n_fft=n_fft,\n",
        "        win_length=win_len,\n",
        "        hop_length=hop_len,\n",
        "        n_mels=n_mels\n",
        "    )(waveform)\n",
        "\n",
        "    mel_spec_db = T.AmplitudeToDB()(mel_spectrogram)\n",
        "    return mel_spec_db"
      ],
      "metadata": {
        "id": "xWPKSSYxUT3M"
      },
      "execution_count": 53,
      "outputs": []
    },
    {
      "cell_type": "code",
      "source": [
        "spectrogram = create_spectrogram(audio)\n",
        "spectrogram = spectrogram.transpose(2,1)\n",
        "\n",
        "\n",
        "model.eval()\n",
        "device = next(model.parameters()).device\n",
        "spectrogram = spectrogram.to(device)\n",
        "\n",
        "with torch.no_grad():\n",
        "    prediction1 = model(spectrogram)\n",
        "    binary_predictions1 = (prediction1 > threshold).int()\n",
        "\n",
        "print(\"Prediction:\", binary_predictions1)"
      ],
      "metadata": {
        "colab": {
          "base_uri": "https://localhost:8080/"
        },
        "id": "4nvU8IG8Ud8n",
        "outputId": "14ccc721-4606-46d1-fe49-2bbaad850af2"
      },
      "execution_count": 78,
      "outputs": [
        {
          "output_type": "stream",
          "name": "stdout",
          "text": [
            "Prediction: tensor([[0, 0, 0, 0, 0, 0, 0, 0, 0, 0, 0, 0, 0, 0, 0, 0, 0, 0, 0, 0, 0, 0, 0, 0,\n",
            "         0, 0, 0, 0, 0, 0, 0, 0, 0, 0, 0, 0, 0, 0, 0, 0, 0, 0, 0, 1, 1, 1, 1, 1,\n",
            "         1, 1, 1, 1, 1, 1, 1, 1, 1, 1, 1, 1, 1, 0, 0, 0, 0, 0, 0, 0, 0, 0, 0, 0,\n",
            "         0, 0, 0, 0, 0, 0, 0, 0, 0, 0, 0, 0, 0, 0, 0, 0, 0, 0, 0, 0, 0, 0, 0, 0,\n",
            "         0, 0, 0, 0, 0, 0, 0, 0, 0, 0, 0, 0, 0, 0, 0, 0, 0, 0, 0, 0, 0, 0, 0, 0,\n",
            "         0, 0, 0, 0, 0, 0, 0, 0, 0, 0, 0, 0, 0, 0, 0, 0, 0, 0, 0, 0, 0, 0, 0, 0,\n",
            "         0, 0, 0, 0, 0, 0, 0, 0]], dtype=torch.int32)\n"
          ]
        }
      ]
    },
    {
      "cell_type": "code",
      "source": [
        "spectrogram2 = create_spectrogram(audio2)\n",
        "spectrogram2 = spectrogram2.transpose(2,1)\n",
        "\n",
        "\n",
        "model.eval()\n",
        "device = next(model.parameters()).device\n",
        "spectrogram2 = spectrogram2.to(device)\n",
        "\n",
        "with torch.no_grad():\n",
        "    prediction2 = model(spectrogram2)\n",
        "    binary_predictions2 = (prediction2 > threshold).int()\n",
        "print(\"Prediction:\", binary_predictions2)"
      ],
      "metadata": {
        "colab": {
          "base_uri": "https://localhost:8080/"
        },
        "id": "UiunmbwEUgNI",
        "outputId": "5e2438a7-702f-42fb-d89a-f11501990995"
      },
      "execution_count": 79,
      "outputs": [
        {
          "output_type": "stream",
          "name": "stdout",
          "text": [
            "Prediction: tensor([[0, 0, 0, 0, 0, 0, 0, 0, 0, 0, 0, 0, 0, 0, 0, 0, 0, 0, 0, 0, 0, 0, 0, 0,\n",
            "         0, 0, 0, 0, 0, 0, 0, 0, 0, 0, 0, 0, 0, 0, 0, 0, 0, 0, 0, 0, 0, 0, 0, 0,\n",
            "         0, 0, 0, 0, 0, 0, 0, 0, 0, 0, 0, 0, 0, 0, 0, 0, 0, 0, 0, 0, 0, 0, 0, 0,\n",
            "         0, 0, 0, 0, 0, 0, 0, 0, 0, 0, 0, 0, 0, 0, 0, 0, 0, 0, 0, 0, 0, 0, 0, 0,\n",
            "         0, 0, 0, 0, 0, 0, 0, 0, 0, 0, 0, 0, 0, 0, 0, 0, 0, 0, 0, 0, 0, 0, 0, 0,\n",
            "         0, 0, 0, 0, 0, 0, 0, 0, 0, 0, 0, 0, 0, 0, 0, 0, 0, 0, 0, 0, 0, 0, 0, 0,\n",
            "         0, 0, 0, 0, 0, 0, 0, 0, 0, 0, 0, 0, 0, 0, 0, 0, 0, 0, 0, 0, 0, 0, 0, 0,\n",
            "         0, 0, 0, 0, 0, 0, 0, 0, 0, 0, 0, 0, 0, 0, 0, 0, 0, 0, 0, 0, 0, 0, 0, 0,\n",
            "         0, 0, 0, 0, 0, 0, 0, 0, 0, 0, 0, 0, 0, 0, 0, 0, 0, 0, 0, 0, 0, 0, 0, 0,\n",
            "         0, 0, 0, 0, 0, 0, 0, 0, 0, 0, 0, 0, 0, 0, 0, 0, 0, 0, 0]],\n",
            "       dtype=torch.int32)\n"
          ]
        }
      ]
    },
    {
      "cell_type": "code",
      "source": [
        "torch.save(model, 'Trigger_word_detection_model.pth')"
      ],
      "metadata": {
        "id": "y6mAe1IhYDt7"
      },
      "execution_count": 80,
      "outputs": []
    },
    {
      "cell_type": "code",
      "source": [],
      "metadata": {
        "id": "sPyeweTccKfM"
      },
      "execution_count": null,
      "outputs": []
    }
  ]
}